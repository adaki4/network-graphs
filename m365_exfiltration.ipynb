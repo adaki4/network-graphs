{
 "cells": [
  {
   "cell_type": "code",
   "execution_count": 1,
   "metadata": {},
   "outputs": [
    {
     "data": {
      "application/vnd.jupyter.widget-view+json": {
       "model_id": "3543e66b082b4829acf5ed4669040f15",
       "version_major": 2,
       "version_minor": 0
      },
      "text/plain": [
       "Dropdown(description='Top N stats', options=('10', '20', '30', '40', '50'), style=DescriptionStyle(description…"
      ]
     },
     "metadata": {},
     "output_type": "display_data"
    },
    {
     "data": {
      "application/vnd.jupyter.widget-view+json": {
       "model_id": "3df7b1ca00a44181938fe9dd6f5a8562",
       "version_major": 2,
       "version_minor": 0
      },
      "text/plain": [
       "ToggleButtons(button_style='info', description='Projection type:', layout=Layout(width='520px'), options=('Dow…"
      ]
     },
     "metadata": {},
     "output_type": "display_data"
    },
    {
     "data": {
      "application/vnd.jupyter.widget-view+json": {
       "model_id": "a252bf5f21c44073852e8e0747d8c07c",
       "version_major": 2,
       "version_minor": 0
      },
      "text/plain": [
       "IntRangeSlider(value=(0, 168), description='Time range in hours (max 1 week from the first event)', layout=Lay…"
      ]
     },
     "metadata": {},
     "output_type": "display_data"
    },
    {
     "data": {
      "application/vnd.jupyter.widget-view+json": {
       "model_id": "d1b678d6d8e040c1bd033eb654a511bf",
       "version_major": 2,
       "version_minor": 0
      },
      "text/plain": [
       "Button(button_style='success', description='Apply changes', style=ButtonStyle(), tooltip='Apply changes')"
      ]
     },
     "metadata": {},
     "output_type": "display_data"
    },
    {
     "data": {
      "application/vnd.jupyter.widget-view+json": {
       "model_id": "a001a251430a4e86a7fb1e4c8f93fa83",
       "version_major": 2,
       "version_minor": 0
      },
      "text/plain": [
       "VBox(children=(JupyterChart(spec={'config': {'view': {'continuousWidth': 300, 'continuousHeight': 300}}, 'data…"
      ]
     },
     "metadata": {},
     "output_type": "display_data"
    }
   ],
   "source": [
    "from IPython.display import clear_output\n",
    "\n",
    "import panel as pn\n",
    "import ipywidgets as widgets\n",
    "import pandas as pd\n",
    "import altair as alt\n",
    "import pathlib\n",
    "import datetime\n",
    "from vega_datasets import data\n",
    "import os\n",
    "import pycountry\n",
    "\n",
    "TIMESTAMP_START = \"First Downloaded At\"\n",
    "TIMESTAMP_END = \"Last Downloaded At\"\n",
    "COUNT = \"COUNT\"\n",
    "IP_ADDR = \"Client IP\"\n",
    "FILE_SIZE = \"File Size (MB)\"\n",
    "FILE_NAME = \"Filename\"\n",
    "URL = \"URL\"\n",
    "DOWNLOAD_COUNT = \"Download Count\"\n",
    "APP = \"Application\"\n",
    "FILE_EXT = \"File Extension\"\n",
    "TOTAL_DATA_AMOUNT = \"Total data amount\"\n",
    "\n",
    "\n",
    "#User Options\n",
    "FILE_SIZE_DSC = \"Downloaded data amount\"\n",
    "TIME_PLOT_DSC = \"Time plot\"\n",
    "\n",
    "\n",
    "prefix_file_path = os.path.join(\"Task 2\", \"536535_data\", \"536535_data\")\n",
    "download_file_path = os.path.join(prefix_file_path, \"m365_exfiltration\", \"single_user_download.csv\")\n",
    "dir_path = pathlib.Path().resolve()\n",
    "\n",
    "download_data: pd.DataFrame = pd.DataFrame(pd.read_csv(dir_path / download_file_path))\n",
    "\n",
    "pn.extension('vega')\n",
    "\n",
    "style = {'description_width': 'initial'}\n",
    "\n",
    "top_n_widget = widgets.Dropdown(\n",
    "    options=['10', '20', '30', '40', '50'],\n",
    "    value='10',\n",
    "    description='Top N stats',\n",
    "    disabled=False,\n",
    "    style = style,\n",
    ")\n",
    "\n",
    "data_type_widget = widgets.ToggleButtons(\n",
    "    options=[FILE_SIZE_DSC, TIME_PLOT_DSC],\n",
    "    description='Projection type:',\n",
    "    disabled=False,\n",
    "    button_style='info', # 'success', 'info', 'warning', 'danger' or ''\n",
    "    style = {'button_width':'200px'}, layout={'width': '520px'},\n",
    ")\n",
    "\n",
    "apply_changes_widget = widgets.Button(\n",
    "    description='Apply changes',\n",
    "    tooltip='Apply changes',\n",
    "    disabled=False,\n",
    "    button_style='success', # 'success', 'info', 'warning', 'danger' or ''\n",
    "    style = style,\n",
    ")\n",
    "period_widget = widgets.IntRangeSlider(\n",
    "    min=0,\n",
    "    max=168,\n",
    "    value=[0, 168],\n",
    "    step=1,\n",
    "    description=\"Time range in hours (max 1 week from the first event)\",\n",
    "    disabled=False,\n",
    "    style = style,\n",
    "    layout={'width': '520px'}\n",
    ")\n",
    "\n",
    "table_widget = widgets.HTML(value=download_data.iloc[:0].to_html())\n",
    "\n",
    "ui_widgets = [top_n_widget, data_type_widget, \n",
    "              period_widget, apply_changes_widget,\n",
    "              ]\n",
    "\n",
    "def display_widgets():\n",
    "    for ui_widget in ui_widgets:\n",
    "        display(ui_widget)\n",
    "\n",
    "def get_first_time_flow_string():\n",
    "    return download_data[TIMESTAMP_START].min()\n",
    "\n",
    "def get_last_time_flow_string():\n",
    "    return download_data[TIMESTAMP_END].max()\n",
    "\n",
    "def get_first_time_flow():\n",
    "    return datetime.datetime.fromisoformat(get_first_time_flow_string())\n",
    "\n",
    "def get_last_time_flow():\n",
    "    return datetime.datetime.fromisoformat(get_last_time_flow_string())\n",
    "\n",
    "def to_datetime(x):\n",
    "    return datetime.datetime.fromisoformat(x)\n",
    "\n",
    "def process_by_top_n(current_data, top_n):\n",
    "    if current_data.empty:\n",
    "        return current_data\n",
    "    return current_data.nlargest(top_n, columns=FILE_SIZE)\n",
    "\n",
    "def process_by_time_range(current_data, time_period):\n",
    "    if current_data.empty:\n",
    "        return current_data\n",
    "    \n",
    "    start_offset, end_offset = time_period\n",
    "\n",
    "    start = get_first_time_flow() + datetime.timedelta(hours=start_offset)\n",
    "    end = get_first_time_flow() + datetime.timedelta(hours=end_offset)\n",
    "\n",
    "    return current_data[(current_data[TIMESTAMP_START].apply(to_datetime) >= start) &\n",
    "                      ((current_data[TIMESTAMP_END].apply(to_datetime)) <= end)]\n",
    "\n",
    "def process_data_download(current_data: pd.DataFrame, top_n, time_period):\n",
    "    processed_data = process_by_time_range(current_data, time_period)\n",
    "    processed_data = processed_data.groupby(FILE_NAME, as_index=False).aggregate({FILE_SIZE: 'sum', DOWNLOAD_COUNT: 'sum', \n",
    "                                                                                  FILE_EXT: 'first', APP: 'first'})\n",
    "    processed_data[TOTAL_DATA_AMOUNT] = processed_data[FILE_SIZE] * processed_data[DOWNLOAD_COUNT]\n",
    "    return process_by_top_n(processed_data, top_n)\n",
    "\n",
    "def on_select_download_file(change):\n",
    "    sel = change.new.value\n",
    "    if sel is None or FILE_NAME not in sel:\n",
    "        filtered = download_data.iloc[:0]\n",
    "    else:\n",
    "        filtered = download_data[download_data[FILE_NAME].isin(sel[FILE_NAME])]\n",
    "        filtered = process_by_time_range(filtered, period_widget.value)\n",
    "\n",
    "    table_widget.value = filtered.to_html()\n",
    "\n",
    "def make_download_plot(current_data):\n",
    "    brush = alt.selection_interval(name=\"brush\")\n",
    "    plot = alt.Chart(current_data).mark_bar().encode(\n",
    "        x=alt.X(TOTAL_DATA_AMOUNT),\n",
    "        y=alt.Y(FILE_NAME, sort='-x'),\n",
    "        color=alt.Color(TOTAL_DATA_AMOUNT,\n",
    "                   scale=alt.Scale(range=['lightgreen', 'green'])),\n",
    "         tooltip=[\n",
    "                 alt.Tooltip(f\"{FILE_NAME}\", title=\"File name\"),\n",
    "                 alt.Tooltip(f\"{FILE_EXT}\", title=\"File extension\"),\n",
    "                 alt.Tooltip(f\"{APP}\", title=\"Downloaded via\"),\n",
    "                 alt.Tooltip(f\"{FILE_SIZE}:Q\", title=\"File size (MB)\"),\n",
    "                 alt.Tooltip(f\"{DOWNLOAD_COUNT}:Q\", title=\"Download count\"),\n",
    "                 alt.Tooltip(f\"{TOTAL_DATA_AMOUNT}:Q\", title=\"Total data amount (MB)\"),\n",
    "             ],\n",
    "    ).properties(\n",
    "        title=f\"File size x Download count\",    \n",
    "        width=800, \n",
    "        height=500,\n",
    "    ).add_params(brush)\n",
    "\n",
    "    return alt.JupyterChart(plot)\n",
    "    \n",
    "    \n",
    "def on_change(v):\n",
    "    clear_output(wait=True)\n",
    "    top_n = int(top_n_widget.value)\n",
    "    display_widgets()\n",
    "\n",
    "    if data_type_widget.value == FILE_SIZE_DSC:\n",
    "        processed_data = process_data_download(download_data, top_n, period_widget.value)\n",
    "    \n",
    "    if processed_data.empty:\n",
    "        print(\"Log: The data set is empty\")\n",
    "        return\n",
    "    \n",
    "    if (data_type_widget.value == FILE_SIZE_DSC):\n",
    "        plot: alt.JupyterChart = make_download_plot(processed_data)\n",
    "        plot.selections.observe(on_select_download_file, [\"brush\"])\n",
    "\n",
    "    display(widgets.VBox([plot, table_widget]))\n",
    "\n",
    "display_widgets()\n",
    "apply_changes_widget.on_click(on_change)"
   ]
  }
 ],
 "metadata": {
  "kernelspec": {
   "display_name": "Python 3",
   "language": "python",
   "name": "python3"
  },
  "language_info": {
   "codemirror_mode": {
    "name": "ipython",
    "version": 3
   },
   "file_extension": ".py",
   "mimetype": "text/x-python",
   "name": "python",
   "nbconvert_exporter": "python",
   "pygments_lexer": "ipython3",
   "version": "3.11.9"
  }
 },
 "nbformat": 4,
 "nbformat_minor": 2
}
