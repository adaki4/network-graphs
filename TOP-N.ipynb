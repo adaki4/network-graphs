{
 "cells": [
  {
   "cell_type": "code",
   "execution_count": null,
   "metadata": {},
   "outputs": [
    {
     "name": "stdout",
     "output_type": "stream",
     "text": [
      "10        195.113.171.105\n",
      "12           185.169.4.49\n",
      "18         206.168.34.101\n",
      "24          185.16.39.241\n",
      "29           217.69.97.55\n",
      "               ...       \n",
      "143344     193.163.125.82\n",
      "143399     195.178.87.225\n",
      "143413      217.69.96.233\n",
      "143414      211.72.99.242\n",
      "143425     162.142.125.21\n",
      "Name: SOURCE IP ADDRESS, Length: 20554, dtype: object\n",
      "7300    195.113.144.158\n",
      "7254    195.113.144.116\n",
      "7294    195.113.144.152\n",
      "7409     195.113.144.32\n",
      "7449      195.113.144.7\n",
      "7267    195.113.144.128\n",
      "7392    195.113.144.241\n",
      "7266    195.113.144.127\n",
      "7320    195.113.144.176\n",
      "7384    195.113.144.234\n",
      "Name: SOURCE IP ADDRESS, dtype: object\n"
     ]
    },
    {
     "data": {
      "application/vnd.jupyter.widget-view+json": {
       "model_id": "801ad410302a4c1483828342de2f32dc",
       "version_major": 2,
       "version_minor": 0
      },
      "text/plain": [
       "Dropdown(description='Top N stats', options=('10', '20', '30', '40'), value='10')"
      ]
     },
     "metadata": {},
     "output_type": "display_data"
    },
    {
     "data": {
      "application/vnd.jupyter.widget-view+json": {
       "model_id": "5152721ea06d4294bbe38640931986f7",
       "version_major": 2,
       "version_minor": 0
      },
      "text/plain": [
       "ToggleButtons(button_style='info', description='Direction:', options=('Received', 'Sent'), value='Received')"
      ]
     },
     "metadata": {},
     "output_type": "display_data"
    },
    {
     "data": {
      "application/vnd.jupyter.widget-view+json": {
       "model_id": "4b58d382e70644dbbb9b4dd76bc338c4",
       "version_major": 2,
       "version_minor": 0
      },
      "text/plain": [
       "ToggleButtons(button_style='info', description='Data type:', index=2, options=('Bytes', 'Packets', 'Flows'), v…"
      ]
     },
     "metadata": {},
     "output_type": "display_data"
    },
    {
     "data": {
      "application/vnd.jupyter.widget-view+json": {
       "model_id": "b3e0a11844594295a9071972fd345ebe",
       "version_major": 2,
       "version_minor": 0
      },
      "text/plain": [
       "IntSlider(value=30, description='Time range in minutes', max=60, step=5)"
      ]
     },
     "metadata": {},
     "output_type": "display_data"
    },
    {
     "data": {
      "application/vnd.jupyter.widget-view+json": {
       "model_id": "3d2bffff07474d05849efeeb46abe0c4",
       "version_major": 2,
       "version_minor": 0
      },
      "text/plain": [
       "Text(value='148.0.0.0', description='Start IPv4 adress')"
      ]
     },
     "metadata": {},
     "output_type": "display_data"
    },
    {
     "data": {
      "application/vnd.jupyter.widget-view+json": {
       "model_id": "85e88e2a21694939b7fbf05c42d7dd4d",
       "version_major": 2,
       "version_minor": 0
      },
      "text/plain": [
       "Text(value='255.255.255.255', description='End IPv4 adress')"
      ]
     },
     "metadata": {},
     "output_type": "display_data"
    },
    {
     "data": {
      "application/vnd.jupyter.widget-view+json": {
       "model_id": "0878e0d729a644ef9de5e4f3fea3e673",
       "version_major": 2,
       "version_minor": 0
      },
      "text/plain": [
       "Text(value='0:0:0:0:0:0:0:0', description='Start IPv6 adress')"
      ]
     },
     "metadata": {},
     "output_type": "display_data"
    },
    {
     "data": {
      "application/vnd.jupyter.widget-view+json": {
       "model_id": "15533b6035b048f99e7438150357e95a",
       "version_major": 2,
       "version_minor": 0
      },
      "text/plain": [
       "Text(value='ffff:ffff:ffff:ffff:ffff:ffff:ffff:ffff', description='End IPv6 adress')"
      ]
     },
     "metadata": {},
     "output_type": "display_data"
    },
    {
     "data": {
      "application/vnd.jupyter.widget-view+json": {
       "model_id": "c60988ab694e4773abc94a1c165c8eb9",
       "version_major": 2,
       "version_minor": 0
      },
      "text/plain": [
       "Button(description='Apply changes', style=ButtonStyle(), tooltip='Apply changes')"
      ]
     },
     "metadata": {},
     "output_type": "display_data"
    },
    {
     "data": {
      "text/html": [
       "\n",
       "<style>\n",
       "  #altair-viz-145df8a7543c40c6942b94b373cad1c7.vega-embed {\n",
       "    width: 100%;\n",
       "    display: flex;\n",
       "  }\n",
       "\n",
       "  #altair-viz-145df8a7543c40c6942b94b373cad1c7.vega-embed details,\n",
       "  #altair-viz-145df8a7543c40c6942b94b373cad1c7.vega-embed details summary {\n",
       "    position: relative;\n",
       "  }\n",
       "</style>\n",
       "<div id=\"altair-viz-145df8a7543c40c6942b94b373cad1c7\"></div>\n",
       "<script type=\"text/javascript\">\n",
       "  var VEGA_DEBUG = (typeof VEGA_DEBUG == \"undefined\") ? {} : VEGA_DEBUG;\n",
       "  (function(spec, embedOpt){\n",
       "    let outputDiv = document.currentScript.previousElementSibling;\n",
       "    if (outputDiv.id !== \"altair-viz-145df8a7543c40c6942b94b373cad1c7\") {\n",
       "      outputDiv = document.getElementById(\"altair-viz-145df8a7543c40c6942b94b373cad1c7\");\n",
       "    }\n",
       "    const paths = {\n",
       "      \"vega\": \"https://cdn.jsdelivr.net/npm/vega@5?noext\",\n",
       "      \"vega-lib\": \"https://cdn.jsdelivr.net/npm/vega-lib?noext\",\n",
       "      \"vega-lite\": \"https://cdn.jsdelivr.net/npm/vega-lite@5.20.1?noext\",\n",
       "      \"vega-embed\": \"https://cdn.jsdelivr.net/npm/vega-embed@6?noext\",\n",
       "    };\n",
       "\n",
       "    function maybeLoadScript(lib, version) {\n",
       "      var key = `${lib.replace(\"-\", \"\")}_version`;\n",
       "      return (VEGA_DEBUG[key] == version) ?\n",
       "        Promise.resolve(paths[lib]) :\n",
       "        new Promise(function(resolve, reject) {\n",
       "          var s = document.createElement('script');\n",
       "          document.getElementsByTagName(\"head\")[0].appendChild(s);\n",
       "          s.async = true;\n",
       "          s.onload = () => {\n",
       "            VEGA_DEBUG[key] = version;\n",
       "            return resolve(paths[lib]);\n",
       "          };\n",
       "          s.onerror = () => reject(`Error loading script: ${paths[lib]}`);\n",
       "          s.src = paths[lib];\n",
       "        });\n",
       "    }\n",
       "\n",
       "    function showError(err) {\n",
       "      outputDiv.innerHTML = `<div class=\"error\" style=\"color:red;\">${err}</div>`;\n",
       "      throw err;\n",
       "    }\n",
       "\n",
       "    function displayChart(vegaEmbed) {\n",
       "      vegaEmbed(outputDiv, spec, embedOpt)\n",
       "        .catch(err => showError(`Javascript Error: ${err.message}<br>This usually means there's a typo in your chart specification. See the javascript console for the full traceback.`));\n",
       "    }\n",
       "\n",
       "    if(typeof define === \"function\" && define.amd) {\n",
       "      requirejs.config({paths});\n",
       "      require([\"vega-embed\"], displayChart, err => showError(`Error loading script: ${err.message}`));\n",
       "    } else {\n",
       "      maybeLoadScript(\"vega\", \"5\")\n",
       "        .then(() => maybeLoadScript(\"vega-lite\", \"5.20.1\"))\n",
       "        .then(() => maybeLoadScript(\"vega-embed\", \"6\"))\n",
       "        .catch(showError)\n",
       "        .then(() => displayChart(vegaEmbed));\n",
       "    }\n",
       "  })({\"config\": {\"view\": {\"continuousWidth\": 300, \"continuousHeight\": 300}}, \"data\": {\"name\": \"data-8e857f0b8d5fc815900cf14bcffb7d2e\"}, \"mark\": {\"type\": \"bar\"}, \"encoding\": {\"x\": {\"field\": \"SOURCE IP ADDRESS\", \"type\": \"nominal\"}, \"y\": {\"field\": \"count\", \"type\": \"quantitative\"}}, \"$schema\": \"https://vega.github.io/schema/vega-lite/v5.20.1.json\", \"datasets\": {\"data-8e857f0b8d5fc815900cf14bcffb7d2e\": [{\"SOURCE IP ADDRESS\": \"195.113.144.158\", \"count\": 22}, {\"SOURCE IP ADDRESS\": \"195.113.144.116\", \"count\": 18}, {\"SOURCE IP ADDRESS\": \"195.113.144.152\", \"count\": 18}, {\"SOURCE IP ADDRESS\": \"195.113.144.32\", \"count\": 18}, {\"SOURCE IP ADDRESS\": \"195.113.144.7\", \"count\": 18}, {\"SOURCE IP ADDRESS\": \"195.113.144.128\", \"count\": 17}, {\"SOURCE IP ADDRESS\": \"195.113.144.241\", \"count\": 17}, {\"SOURCE IP ADDRESS\": \"195.113.144.127\", \"count\": 16}, {\"SOURCE IP ADDRESS\": \"195.113.144.176\", \"count\": 16}, {\"SOURCE IP ADDRESS\": \"195.113.144.234\", \"count\": 16}]}}, {\"mode\": \"vega-lite\"});\n",
       "</script>"
      ],
      "text/plain": [
       "alt.Chart(...)"
      ]
     },
     "metadata": {},
     "output_type": "display_data"
    }
   ],
   "source": [
    "\n",
    "from IPython.display import clear_output\n",
    "\n",
    "from ipaddress import ip_address\n",
    "import ipywidgets as widgets\n",
    "import pandas as pd\n",
    "import altair as alt\n",
    "import pathlib\n",
    "\n",
    "file_path = pathlib.Path(\"Task 1\\\\20240701_19-20_100l.csv\")\n",
    "dir_path = pathlib.Path().resolve()\n",
    "\n",
    "csv_file = pd.read_csv(dir_path / file_path)\n",
    "data: pd.DataFrame = pd.DataFrame(csv_file)\n",
    "\n",
    "apply_changes_widget = widgets.Button(\n",
    "    description='Apply changes',\n",
    "    tooltip='Apply changes',\n",
    "    disabled=False,\n",
    ")\n",
    "\n",
    "top_n_widget = widgets.Dropdown(\n",
    "    options=['10', '20', '30', '40'],\n",
    "    value='10',\n",
    "    description='Top N stats',\n",
    "    disabled=False,\n",
    ")\n",
    "\n",
    "src_dst_widget = widgets.ToggleButtons(\n",
    "    options=['Received', 'Sent'],\n",
    "    description='Direction:',\n",
    "    disabled=False,\n",
    "    button_style='info', # 'success', 'info', 'warning', 'danger' or ''\n",
    ")\n",
    "\n",
    "data_type_widget = widgets.ToggleButtons(\n",
    "    options=['Bytes', 'Packets', 'Flows'],\n",
    "    description='Data type:',\n",
    "    disabled=False,\n",
    "    button_style='info', # 'success', 'info', 'warning', 'danger' or ''\n",
    ")\n",
    "\n",
    "period_widget = widgets.IntSlider(\n",
    "    min=0,\n",
    "    max=60,\n",
    "    value=30,\n",
    "    step=5,\n",
    "    description='Time range in minutes',\n",
    "    disabled=False,\n",
    ")\n",
    "\n",
    "ipv4_start_widget = widgets.Text(\n",
    "    value='0.0.0.0',\n",
    "    description='Start IPv4 adress',\n",
    "    disabled=False,\n",
    ")\n",
    "\n",
    "ipv4_end_widget = widgets.Text(\n",
    "    value='255.255.255.255',\n",
    "    description='End IPv4 adress',\n",
    "    disabled=False,\n",
    ")\n",
    "\n",
    "ipv6_start_widget = widgets.Text(\n",
    "    value='0:0:0:0:0:0:0:0',\n",
    "    description='Start IPv6 adress',\n",
    "    disabled=False,\n",
    ")\n",
    "\n",
    "ipv6_end_widget = widgets.Text(\n",
    "    value='ffff:ffff:ffff:ffff:ffff:ffff:ffff:ffff',\n",
    "    description='End IPv6 adress',\n",
    "    disabled=False,\n",
    ")\n",
    "\n",
    "ui_widgets = [\n",
    "              top_n_widget, src_dst_widget, data_type_widget, \n",
    "              period_widget, ipv4_start_widget, ipv4_end_widget, \n",
    "              ipv6_start_widget, ipv6_end_widget, apply_changes_widget]\n",
    "\n",
    "def try_convert(x):\n",
    "    try:\n",
    "        return int(ip_address(x))\n",
    "    except Exception as err:\n",
    "        return 0\n",
    "\n",
    "def process_by_type(g_src_dst, g_data_type, top_n_n, curr_data):\n",
    "    if g_data_type == \"FLOWS\":\n",
    "        processed_data = curr_data.groupby(g_src_dst)[g_src_dst].count().reset_index(name='count').nlargest(top_n_n, columns='count')\n",
    "\n",
    "    else:\n",
    "        processed_data = curr_data[[g_src_dst, g_data_type]].groupby(g_src_dst).sum().reset_index().nlargest(top_n_n, columns=g_data_type)\n",
    "    return processed_data\n",
    "\n",
    "def process_by_ip_range(g_src_dst, ipv4_start_str, ipv4_end_str, ipv6_start_str ,ipv6_end_str):\n",
    "    ipv4_start_int = int(ip_address(ipv4_start_str))\n",
    "    ipv4_end_int = int(ip_address(ipv4_end_str))\n",
    "    ipv6_start_int = int(ip_address(ipv6_start_str))\n",
    "    ipv6_end_int = int(ip_address(ipv6_end_str))\n",
    "\n",
    "    return data.loc[\n",
    "        data[g_src_dst].apply(try_convert).between(ipv4_start_int, ipv4_end_int)\n",
    "    ]\n",
    "\n",
    "def get_traffic_data(g_src_dst, g_data_type, top_n, time_period, ipv4_start_str, ipv4_end_str, ipv6_start_str, ipv6_end_str):\n",
    "    processed_data = process_by_ip_range(g_src_dst, ipv4_start_str, ipv4_end_str, ipv6_start_str, ipv6_end_str)\n",
    "\n",
    "    print(processed_data[g_src_dst])\n",
    "    processed_data = process_by_type(g_src_dst, g_data_type, top_n, processed_data)\n",
    "    \n",
    "    print(processed_data[g_src_dst])\n",
    "    return alt.Chart(processed_data).mark_bar().encode(\n",
    "        x=processed_data.columns[0],\n",
    "        y=processed_data.columns[1],\n",
    "    )\n",
    "\n",
    "\n",
    "def on_change(v):\n",
    "    clear_output(wait=True)\n",
    "    \n",
    "    if src_dst_widget.value == 'Received':\n",
    "        g_src_dst = \"SOURCE IP ADDRESS\"\n",
    "    else:\n",
    "        g_src_dst = \"DESTINATION IP ADDRESS\"\n",
    "\n",
    "    if data_type_widget.value == \"Bytes\":\n",
    "        g_data_type = \"BYTES\"\n",
    "    elif data_type_widget.value == \"Packets\":\n",
    "        g_data_type = \"PACKETS\"\n",
    "    elif data_type_widget.value == \"Flows\":\n",
    "        g_data_type = \"FLOWS\"\n",
    "    \n",
    "    graph = get_traffic_data(g_src_dst, g_data_type, \n",
    "                             int(top_n_widget.value), int(period_widget.value),\n",
    "                             ipv4_start_widget.value,ipv4_end_widget.value, \n",
    "                             ipv6_start_widget.value,ipv6_end_widget.value\n",
    "                             )\n",
    "\n",
    "    for ui_widget in ui_widgets:\n",
    "        display(ui_widget)\n",
    "    display(graph)\n",
    "\n",
    "apply_changes_widget.on_click(on_change)\n",
    "for ui_widget in ui_widgets:\n",
    "    display(ui_widget)\n",
    "\n",
    "\n",
    "\n"
   ]
  }
 ],
 "metadata": {
  "kernelspec": {
   "display_name": "Python 3",
   "language": "python",
   "name": "python3"
  },
  "language_info": {
   "codemirror_mode": {
    "name": "ipython",
    "version": 3
   },
   "file_extension": ".py",
   "mimetype": "text/x-python",
   "name": "python",
   "nbconvert_exporter": "python",
   "pygments_lexer": "ipython3",
   "version": "3.11.9"
  }
 },
 "nbformat": 4,
 "nbformat_minor": 2
}
