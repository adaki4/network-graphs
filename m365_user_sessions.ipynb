{
 "cells": [
  {
   "cell_type": "code",
   "execution_count": 61,
   "metadata": {},
   "outputs": [
    {
     "data": {
      "application/vnd.jupyter.widget-view+json": {
       "model_id": "7290961b3a3f412597a30c30ca10877f",
       "version_major": 2,
       "version_minor": 0
      },
      "text/plain": [
       "Dropdown(description='Top N stats', options=('10', '20', '30', '40', '50'), style=DescriptionStyle(description…"
      ]
     },
     "metadata": {},
     "output_type": "display_data"
    },
    {
     "data": {
      "application/vnd.jupyter.widget-view+json": {
       "model_id": "0da19790001d4282a38d97b5b3f6c89a",
       "version_major": 2,
       "version_minor": 0
      },
      "text/plain": [
       "ToggleButtons(button_style='info', description='Projection type:', layout=Layout(width='520px'), options=('Eve…"
      ]
     },
     "metadata": {},
     "output_type": "display_data"
    },
    {
     "data": {
      "application/vnd.jupyter.widget-view+json": {
       "model_id": "144b200497de47379c0a36c1464d5396",
       "version_major": 2,
       "version_minor": 0
      },
      "text/plain": [
       "IntRangeSlider(value=(0, 168), description='Time range in hours (max 1 week from the first event)', layout=Lay…"
      ]
     },
     "metadata": {},
     "output_type": "display_data"
    },
    {
     "data": {
      "application/vnd.jupyter.widget-view+json": {
       "model_id": "1f8c01b9cb7440538f1e032d77fba80a",
       "version_major": 2,
       "version_minor": 0
      },
      "text/plain": [
       "Button(button_style='success', description='Apply changes', style=ButtonStyle(), tooltip='Apply changes')"
      ]
     },
     "metadata": {},
     "output_type": "display_data"
    },
    {
     "data": {
      "application/vnd.jupyter.widget-view+json": {
       "model_id": "1fd4d48462094c27bb865cdc66a46823",
       "version_major": 2,
       "version_minor": 0
      },
      "text/plain": [
       "VBox(children=(JupyterChart(spec={'config': {'view': {'continuousWidth': 300, 'continuousHeight': 300}}, 'data…"
      ]
     },
     "metadata": {},
     "output_type": "display_data"
    }
   ],
   "source": [
    "from IPython.display import clear_output\n",
    "\n",
    "import panel as pn\n",
    "import ipywidgets as widgets\n",
    "import pandas as pd\n",
    "import altair as alt\n",
    "import pathlib\n",
    "import datetime\n",
    "import os\n",
    "\n",
    "LOCATION = \"Location\"\n",
    "TIMESTAMP = \"Timestamp\"\n",
    "COUNT = \"COUNT\"\n",
    "IP_ADDR = \"Client IP\"\n",
    "\n",
    "#User Options\n",
    "EVENTS = \"Events\"\n",
    "TIME_PLOT = \"Time plot\"\n",
    "\n",
    "\n",
    "prefix_file_path = os.path.join(\"Task 2\", \"536535_data\", \"536535_data\")\n",
    "events_file_path = os.path.join(prefix_file_path, \"m365_user_sessions\", \"events.csv\")\n",
    "dir_path = pathlib.Path().resolve()\n",
    "\n",
    "events_data: pd.DataFrame = pd.DataFrame(pd.read_csv(dir_path / events_file_path))\n",
    "\n",
    "pn.extension('vega')\n",
    "\n",
    "style = {'description_width': 'initial'}\n",
    "\n",
    "top_n_widget = widgets.Dropdown(\n",
    "    options=['10', '20', '30', '40', '50'],\n",
    "    value='10',\n",
    "    description='Top N stats',\n",
    "    disabled=False,\n",
    "    style = style,\n",
    ")\n",
    "\n",
    "data_type_widget = widgets.ToggleButtons(\n",
    "    options=[EVENTS, TIME_PLOT],\n",
    "    description='Projection type:',\n",
    "    disabled=False,\n",
    "    button_style='info', # 'success', 'info', 'warning', 'danger' or ''\n",
    "    style = {'button_width':'200px'}, layout={'width': '520px'},\n",
    ")\n",
    "\n",
    "apply_changes_widget = widgets.Button(\n",
    "    description='Apply changes',\n",
    "    tooltip='Apply changes',\n",
    "    disabled=False,\n",
    "    button_style='success', # 'success', 'info', 'warning', 'danger' or ''\n",
    "    style = style,\n",
    ")\n",
    "period_widget = widgets.IntRangeSlider(\n",
    "    min=0,\n",
    "    max=168,\n",
    "    value=[0, 168],\n",
    "    step=1,\n",
    "    description=\"Time range in hours (max 1 week from the first event)\",\n",
    "    disabled=False,\n",
    "    style = style,\n",
    "    layout={'width': '520px'}\n",
    ")\n",
    "\n",
    "table_widget = widgets.HTML(value=events_data.iloc[:0].to_html())\n",
    "\n",
    "ui_widgets = [top_n_widget, data_type_widget, \n",
    "              period_widget, apply_changes_widget,\n",
    "              ]\n",
    "\n",
    "def display_widgets():\n",
    "    for ui_widget in ui_widgets:\n",
    "        display(ui_widget)\n",
    "\n",
    "def get_first_time_flow_string():\n",
    "    return events_data[TIMESTAMP].min()\n",
    "\n",
    "def get_last_time_flow_string():\n",
    "    return events_data[TIMESTAMP].max()\n",
    "\n",
    "def get_first_time_flow():\n",
    "    return datetime.datetime.fromisoformat(get_first_time_flow_string())\n",
    "\n",
    "def get_last_time_flow():\n",
    "    return datetime.datetime.fromisoformat(get_last_time_flow_string())\n",
    "\n",
    "def to_datetime(x):\n",
    "    return datetime.datetime.fromisoformat(x)\n",
    "\n",
    "def process_by_top_n(current_data, top_n):\n",
    "    if current_data.empty:\n",
    "        return current_data\n",
    "    return current_data.nlargest(top_n, columns=COUNT)\n",
    "\n",
    "def process_by_time_range(current_data, time_period):\n",
    "    if current_data.empty:\n",
    "        return current_data\n",
    "    \n",
    "    start_offset, end_offset = time_period\n",
    "\n",
    "    start = get_first_time_flow() + datetime.timedelta(hours=start_offset)\n",
    "    end = get_first_time_flow() + datetime.timedelta(hours=end_offset)\n",
    "\n",
    "    return current_data[(current_data[TIMESTAMP].apply(to_datetime) >= start) &\n",
    "                      ((current_data[TIMESTAMP].apply(to_datetime)) <= end)]\n",
    "\n",
    "def process_data_event(current_data: pd.DataFrame, top_n, time_period):\n",
    "    processed_data = process_by_time_range(current_data, time_period)\n",
    "    processed_data = current_data.groupby(IP_ADDR)[IP_ADDR].size().reset_index(name=COUNT)\n",
    "    return process_by_top_n(processed_data, top_n)\n",
    "\n",
    "def make_events_plot(current_data):\n",
    "    brush = alt.selection_point(name=\"brush\", fields=[IP_ADDR])\n",
    "    plot = alt.Chart(current_data).mark_arc().encode(\n",
    "        theta=alt.Theta(COUNT),\n",
    "        color=alt.Color(IP_ADDR, sort=alt.EncodingSortField(COUNT, order=\"descending\")),\n",
    "        tooltip=[\n",
    "                alt.Tooltip(f\"{IP_ADDR}\", title=\"IP address\"),\n",
    "                alt.Tooltip(f\"{COUNT}:Q\", title=\"IP events count\"),\n",
    "            ],\n",
    "    ).properties(\n",
    "        title=f\"Distribution of {current_data[COUNT].sum()} recorded events by IP adress\"\n",
    "    ).add_params(brush)\n",
    "\n",
    "    return alt.JupyterChart(plot)\n",
    "\n",
    "def on_select_ip_addr(change):\n",
    "    sel = change.new.value\n",
    "    if sel is None or IP_ADDR not in sel[0]:\n",
    "        filtered = events_data.iloc[:0]\n",
    "    else:\n",
    "    \n",
    "        ip_addresses = [x[IP_ADDR] for x in sel]\n",
    "        #I was not able to get NaN `Client IP address` out any other way \n",
    "        filtered = events_data[events_data[IP_ADDR].isnull()]  \n",
    "        filtered = pd.merge(filtered, events_data, how='outer', indicator=True).query(\"_merge != 'both'\").drop('_merge', axis=1).reset_index(drop=True)\n",
    "        filtered = filtered[filtered[IP_ADDR].isin(ip_addresses)]\n",
    "        filtered = process_by_time_range(filtered, period_widget.value)\n",
    "\n",
    "    table_widget.value = filtered.to_html()\n",
    "\n",
    "def on_change(v):\n",
    "    clear_output(wait=True)\n",
    "    top_n = int(top_n_widget.value)\n",
    "    display_widgets()\n",
    "\n",
    "    if data_type_widget.value == EVENTS:\n",
    "        processed_data = process_data_event(events_data, top_n, period_widget.value)\n",
    "    \n",
    "    if processed_data.empty:\n",
    "        print(\"Log: The data set is empty\")\n",
    "        return\n",
    "\n",
    "    if (data_type_widget.value == EVENTS):\n",
    "        plot: alt.JupyterChart = make_events_plot(processed_data)\n",
    "        plot.selections.observe(on_select_ip_addr, [\"brush\"])\n",
    "    \n",
    "    display(widgets.VBox([plot, table_widget]))\n",
    "\n",
    "\n",
    "display_widgets()\n",
    "apply_changes_widget.on_click(on_change)"
   ]
  }
 ],
 "metadata": {
  "kernelspec": {
   "display_name": "Python 3",
   "language": "python",
   "name": "python3"
  },
  "language_info": {
   "codemirror_mode": {
    "name": "ipython",
    "version": 3
   },
   "file_extension": ".py",
   "mimetype": "text/x-python",
   "name": "python",
   "nbconvert_exporter": "python",
   "pygments_lexer": "ipython3",
   "version": "3.11.9"
  }
 },
 "nbformat": 4,
 "nbformat_minor": 2
}
